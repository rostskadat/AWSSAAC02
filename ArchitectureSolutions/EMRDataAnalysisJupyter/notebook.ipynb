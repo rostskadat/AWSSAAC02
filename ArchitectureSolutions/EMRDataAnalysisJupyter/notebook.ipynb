{
 "cells": [
  {
   "cell_type": "markdown",
   "metadata": {},
   "source": [
    "**Exploratory Data Analysis of Bank Customer Churn**\n",
    "\n",
    "We have client ‘ABC Bank’. Bank has noticed increased number of customers leaving to the bank. To tackle this alarming situation. Bank has decided to collect the data of the past 6 months. 10000 customers are selected randomly among three countries - France, Germany , Spain. The bank wanted to understand get the insights about customer churning so bank can upgrade or adapt new policies.\n",
    "\n"
   ]
  },
  {
   "cell_type": "code",
   "execution_count": null,
   "metadata": {
    "_cell_guid": "b1076dfc-b9ad-4769-8c92-a6c4dae69d19",
    "_uuid": "8f2839f25d086af736a60e9eeb907d3b93b6e0e5"
   },
   "outputs": [],
   "source": [
    "import numpy as np\n",
    "import pandas as pd\n",
    "import matplotlib.pyplot as plt\n",
    "import seaborn as sns\n",
    "%matplotlib inline"
   ]
  },
  {
   "cell_type": "code",
   "execution_count": null,
   "metadata": {},
   "outputs": [],
   "source": [
    "train = pd.read_csv(\"DataSample.csv\")\n",
    "train.head()"
   ]
  },
  {
   "cell_type": "markdown",
   "metadata": {},
   "source": [
    "The dataset have the columns RowNumber, CustomerId and Surname will not have any impact on the customer leaving the bank. Out of the remaining variables, Geography, Gender, NumOfProducts, HasCrCard and IsActiveMember are categorical variables and the remaining variables i.e. CreditScore, Age, Tenure, Balance and EstimantedSalary are numerical variables. \n"
   ]
  },
  {
   "cell_type": "code",
   "execution_count": null,
   "metadata": {},
   "outputs": [],
   "source": [
    "countries = train.Geography.unique()"
   ]
  },
  {
   "cell_type": "code",
   "execution_count": null,
   "metadata": {},
   "outputs": [],
   "source": [
    "totalExited = len(train.loc[train.Exited == 1])"
   ]
  },
  {
   "cell_type": "code",
   "execution_count": null,
   "metadata": {},
   "outputs": [],
   "source": [
    "def findCountryWiseChurnRatio(countryName,df):\n",
    "    \n",
    "    totalPeople= len(df.loc[df.Geography == countryName])\n",
    "    totalExitedPerCountry = len(df.loc[(df.Exited == 1) & (df.Geography == countryName)])\n",
    "    return((totalExitedPerCountry/totalPeople)*100)"
   ]
  },
  {
   "cell_type": "code",
   "execution_count": null,
   "metadata": {},
   "outputs": [],
   "source": [
    "churnPercentageByCountry =  {x:np.round(findCountryWiseChurnRatio(x,train)) for x in countries}"
   ]
  },
  {
   "cell_type": "code",
   "execution_count": null,
   "metadata": {},
   "outputs": [],
   "source": [
    "churnPercentageByCountry"
   ]
  },
  {
   "cell_type": "code",
   "execution_count": null,
   "metadata": {},
   "outputs": [],
   "source": [
    "sns.set_style(\"whitegrid\")"
   ]
  },
  {
   "cell_type": "code",
   "execution_count": null,
   "metadata": {
    "scrolled": true
   },
   "outputs": [],
   "source": [
    "plt.figure(figsize=(9, 6))\n",
    "ax=sns.countplot(data=train,\n",
    "                 x = 'Geography',\n",
    "                 hue = 'Exited',\n",
    "                 edgecolor=(0,0,0),\n",
    "                 linewidth=0.5)\n",
    "plt.title('Geography Wise Customer Count')\n",
    "plt.legend(['Non Exited','Exited'])"
   ]
  },
  {
   "cell_type": "markdown",
   "metadata": {},
   "source": [
    "Above Countplot shows the count of customers present in each country and customer churned from the same country. \n",
    "Here we can notice France and Germany has maximum number of customers as compared to Spain. But the maximum number of customers are churned from Germany.\n"
   ]
  },
  {
   "cell_type": "code",
   "execution_count": null,
   "metadata": {},
   "outputs": [],
   "source": [
    "plt.figure(figsize=(10, 6))\n",
    "sns.scatterplot(x=\"Age\", y=\"Balance\",hue = 'Geography',data=train,)\n",
    "plt.title('Age Wise Balance Distribution')"
   ]
  },
  {
   "cell_type": "markdown",
   "metadata": {},
   "source": [
    "Here we are plotting scatter plot which shows “Balance of customer” according to “Age of customer”. But after plotting here we can understand their isn't any correlation between Balance and Age in  customer because points are scattered all over the graph. \n",
    "We can observe here one interesting fact that France and Germany has Accounts with 0 balance amount. This is really ironic because Germany has maximum number if churned customers. So this observation invalidate the hypothesis that customers with 0 account balance are most likely to leave the bank. \n"
   ]
  },
  {
   "cell_type": "code",
   "execution_count": null,
   "metadata": {},
   "outputs": [],
   "source": [
    "def distribution(category):\n",
    "    NonExited=train[train.Exited == 0][category]\n",
    "    Exited=train[train.Exited == 1][category]\n",
    "    plt.figure(figsize=(10,6))\n",
    "    sns.set()\n",
    "    plt.hist(NonExited,alpha=0.75,bins = 100,label = 'Not Exited',color = \"blue\",weights=np.ones(len(NonExited)) / len(NonExited))\n",
    "    plt.hist(Exited,alpha=0.70,bins = 100,label = 'Exited',color = \"red\",weights=np.ones(len(Exited)) / len(Exited))\n",
    "    plt.xlabel(category)\n",
    "    plt.ylabel('Density')\n",
    "    plt.legend(loc='upper right')\n",
    "    plt.title('{} Distribution'.format(category))\n",
    "    plt.show()"
   ]
  },
  {
   "cell_type": "code",
   "execution_count": null,
   "metadata": {},
   "outputs": [],
   "source": [
    "distribution('Age')"
   ]
  },
  {
   "cell_type": "markdown",
   "metadata": {},
   "source": [
    "The above histogram shows the age distribution according to the customer who stayed and left the bank. Here we observe 2 trends-  \n",
    "- The number of customers in the bank decrease as the age increases. \n",
    "- After the age of 40 there is an increase in the rate of customers leaving the bank. The reason for this may be that other competitor banks offer better incentives.\n"
   ]
  },
  {
   "cell_type": "code",
   "execution_count": null,
   "metadata": {},
   "outputs": [],
   "source": [
    "distribution('Balance')"
   ]
  },
  {
   "cell_type": "markdown",
   "metadata": {},
   "source": [
    "In the plot above we can see that the distribution of balance for the customers who left is normal. \n",
    "Also, for the customers with 0 bank balance there is a hike in density- 24% for the customers who left and 39% for the customers who stayed.\n"
   ]
  },
  {
   "cell_type": "code",
   "execution_count": null,
   "metadata": {},
   "outputs": [],
   "source": [
    "distribution('CreditScore')"
   ]
  },
  {
   "cell_type": "markdown",
   "metadata": {},
   "source": [
    "We wanted to check is any relation between CreditScore and customer stayed or leaving the bank. In order to that we plot CreditScore distribution using same function distribution(‘CreditScore’). \n",
    "Here we see that there isn’t any pattern in the customers who left, but there is a pattern in the customers who have a Credit Score less than 400 and it’s observed that they are leaving..\n"
   ]
  },
  {
   "cell_type": "code",
   "execution_count": null,
   "metadata": {},
   "outputs": [],
   "source": [
    "x1 = list(train[train.Geography == 'France']['Balance'])\n",
    "x2 = list(train[train.Geography == 'Germany']['Balance'])\n",
    "x3 = list(train[train.Geography == 'Spain']['Balance'])"
   ]
  },
  {
   "cell_type": "code",
   "execution_count": null,
   "metadata": {},
   "outputs": [],
   "source": [
    "sns.set()\n",
    "plt.figure(figsize=(10,6))\n",
    "plt.hist([x1,x2,x3],bins = 5,stacked=True,color = ['#337ab7','#f16e0c','#b73333'],)\n",
    "plt.xlabel('Balance')\n",
    "plt.ylabel('Number of customers')\n",
    "plt.legend(['France','Germany','Spain'])\n",
    "plt.title('Balance distribution with country')"
   ]
  },
  {
   "cell_type": "markdown",
   "metadata": {},
   "source": [
    "The plot above shows the Balance of customers of different countries. \n",
    "\n",
    "In the first bar you notice, It contains the customers who have a balance between (0 - 50000). France has the highest number of customers and then comes Spain and Germany has very less customers in this segment. \n",
    "\n",
    "In the third bar, you notice Germany (100000 - 150000) has the maximum number of customers. \n",
    "\n",
    "Based on the above plot we can conclude that the accounts from Germany are very rich as compared to the other two countries. But if you see Plot 1 then you’ll understand the maximum number of customers leaving the bank are from Germany.\n",
    "\n",
    "\n",
    "**On this note, we can infer that Germany has multiple banks which offer better incentives to the customers as compared to the ABC Bank. That's why a number of customers are moving out and opting for other banks. We don't have data of other banks so it’s better we speculate.**\n",
    "\n"
   ]
  },
  {
   "cell_type": "code",
   "execution_count": null,
   "metadata": {
    "scrolled": true
   },
   "outputs": [],
   "source": [
    "plt.figure(figsize=(16,8))\n",
    "sns.barplot(x= 'Age',y = 'EstimatedSalary',data = train,color='blue',ci=None)\n",
    "plt.title('Estimated Salary with Age')"
   ]
  },
  {
   "cell_type": "markdown",
   "metadata": {},
   "source": [
    "Generally, it is observed that as age increases, a person’s salary increases. \n",
    "\n",
    "To check this assumption we have plotted the estimated salary with age. If we see the plot then we can observe that our assumption is wrong.\n",
    "\n",
    "A weird pattern that we see is that after the age of 81 there is a rise in salary which goes above 175000. That may be because customers are generating income from their late blooming sources like businesses and investments.\n"
   ]
  }
 ],
 "metadata": {
  "kernelspec": {
   "display_name": "Python 3",
   "language": "python",
   "name": "python3"
  },
  "language_info": {
   "codemirror_mode": {
    "name": "ipython",
    "version": 3
   },
   "file_extension": ".py",
   "mimetype": "text/x-python",
   "name": "python",
   "nbconvert_exporter": "python",
   "pygments_lexer": "ipython3",
   "version": "3.7.3"
  },
  "widgets": {
   "application/vnd.jupyter.widget-state+json": {
    "state": {},
    "version_major": 2,
    "version_minor": 0
   }
  }
 },
 "nbformat": 4,
 "nbformat_minor": 4
}